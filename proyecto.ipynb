{
 "cells": [
  {
   "cell_type": "code",
   "execution_count": 30,
   "metadata": {},
   "outputs": [],
   "source": [
    "import pandas as pd\n",
    "import matplotlib.pyplot as plt\n",
    "import seaborn as sns"
   ]
  },
  {
   "cell_type": "code",
   "execution_count": 31,
   "metadata": {},
   "outputs": [],
   "source": [
    "#importar los datos#\n",
    "dato = pd.read_csv('airnbnbmex.csv')"
   ]
  },
  {
   "cell_type": "code",
   "execution_count": 32,
   "metadata": {},
   "outputs": [
    {
     "data": {
      "text/plain": [
       "(19852, 16)"
      ]
     },
     "execution_count": 32,
     "metadata": {},
     "output_type": "execute_result"
    }
   ],
   "source": [
    "dato.shape"
   ]
  },
  {
   "cell_type": "code",
   "execution_count": 33,
   "metadata": {},
   "outputs": [
    {
     "data": {
      "text/plain": [
       "id                                    0\n",
       "name                                  5\n",
       "host_id                               0\n",
       "host_name                             1\n",
       "neighbourhood_group               19852\n",
       "neighbourhood                         0\n",
       "latitude                              0\n",
       "longitude                             0\n",
       "room_type                             0\n",
       "price                                 0\n",
       "minimum_nights                        0\n",
       "number_of_reviews                     0\n",
       "last_review                        5235\n",
       "reviews_per_month                  5235\n",
       "calculated_host_listings_count        0\n",
       "availability_365                      0\n",
       "dtype: int64"
      ]
     },
     "execution_count": 33,
     "metadata": {},
     "output_type": "execute_result"
    }
   ],
   "source": [
    "dato.isnull().sum()"
   ]
  },
  {
   "cell_type": "code",
   "execution_count": 34,
   "metadata": {},
   "outputs": [],
   "source": [
    "dato = dato.dropna(subset=[\"name\",\"host_name\",\"last_review\",\"reviews_per_month\"])"
   ]
  },
  {
   "cell_type": "code",
   "execution_count": 35,
   "metadata": {},
   "outputs": [],
   "source": [
    "dato = dato.drop(columns=['neighbourhood_group'])"
   ]
  },
  {
   "cell_type": "code",
   "execution_count": 36,
   "metadata": {},
   "outputs": [
    {
     "data": {
      "text/plain": [
       "(14614, 15)"
      ]
     },
     "execution_count": 36,
     "metadata": {},
     "output_type": "execute_result"
    }
   ],
   "source": [
    "dato.shape"
   ]
  },
  {
   "cell_type": "code",
   "execution_count": 37,
   "metadata": {},
   "outputs": [
    {
     "data": {
      "text/plain": [
       "id                                0\n",
       "name                              0\n",
       "host_id                           0\n",
       "host_name                         0\n",
       "neighbourhood                     0\n",
       "latitude                          0\n",
       "longitude                         0\n",
       "room_type                         0\n",
       "price                             0\n",
       "minimum_nights                    0\n",
       "number_of_reviews                 0\n",
       "last_review                       0\n",
       "reviews_per_month                 0\n",
       "calculated_host_listings_count    0\n",
       "availability_365                  0\n",
       "dtype: int64"
      ]
     },
     "execution_count": 37,
     "metadata": {},
     "output_type": "execute_result"
    }
   ],
   "source": [
    "dato.isnull().sum()"
   ]
  },
  {
   "cell_type": "code",
   "execution_count": 38,
   "metadata": {},
   "outputs": [
    {
     "data": {
      "text/html": [
       "<div>\n",
       "<style scoped>\n",
       "    .dataframe tbody tr th:only-of-type {\n",
       "        vertical-align: middle;\n",
       "    }\n",
       "\n",
       "    .dataframe tbody tr th {\n",
       "        vertical-align: top;\n",
       "    }\n",
       "\n",
       "    .dataframe thead th {\n",
       "        text-align: right;\n",
       "    }\n",
       "</style>\n",
       "<table border=\"1\" class=\"dataframe\">\n",
       "  <thead>\n",
       "    <tr style=\"text-align: right;\">\n",
       "      <th></th>\n",
       "      <th>id</th>\n",
       "      <th>name</th>\n",
       "      <th>host_id</th>\n",
       "      <th>host_name</th>\n",
       "      <th>neighbourhood</th>\n",
       "      <th>latitude</th>\n",
       "      <th>longitude</th>\n",
       "      <th>room_type</th>\n",
       "      <th>price</th>\n",
       "      <th>minimum_nights</th>\n",
       "      <th>number_of_reviews</th>\n",
       "      <th>last_review</th>\n",
       "      <th>reviews_per_month</th>\n",
       "      <th>calculated_host_listings_count</th>\n",
       "      <th>availability_365</th>\n",
       "    </tr>\n",
       "  </thead>\n",
       "  <tbody>\n",
       "    <tr>\n",
       "      <th>1</th>\n",
       "      <td>44616</td>\n",
       "      <td>CONDESA HAUS  B&amp;B</td>\n",
       "      <td>196253</td>\n",
       "      <td>Condesa Haus Bed &amp; Breakfast  CDMX</td>\n",
       "      <td>Cuauhtémoc</td>\n",
       "      <td>19.41006</td>\n",
       "      <td>-99.17645</td>\n",
       "      <td>Entire home/apt</td>\n",
       "      <td>8286</td>\n",
       "      <td>1</td>\n",
       "      <td>49</td>\n",
       "      <td>2020-10-25</td>\n",
       "      <td>0.44</td>\n",
       "      <td>10</td>\n",
       "      <td>364</td>\n",
       "    </tr>\n",
       "    <tr>\n",
       "      <th>2</th>\n",
       "      <td>56074</td>\n",
       "      <td>Great space in historical San Rafael</td>\n",
       "      <td>265650</td>\n",
       "      <td>Maris</td>\n",
       "      <td>Cuauhtémoc</td>\n",
       "      <td>19.43778</td>\n",
       "      <td>-99.15549</td>\n",
       "      <td>Entire home/apt</td>\n",
       "      <td>650</td>\n",
       "      <td>4</td>\n",
       "      <td>60</td>\n",
       "      <td>2019-07-24</td>\n",
       "      <td>1.59</td>\n",
       "      <td>2</td>\n",
       "      <td>0</td>\n",
       "    </tr>\n",
       "    <tr>\n",
       "      <th>3</th>\n",
       "      <td>58955</td>\n",
       "      <td>Entire beautiful duplex in la Roma</td>\n",
       "      <td>282620</td>\n",
       "      <td>Laura</td>\n",
       "      <td>Cuauhtémoc</td>\n",
       "      <td>19.42292</td>\n",
       "      <td>-99.15775</td>\n",
       "      <td>Entire home/apt</td>\n",
       "      <td>1447</td>\n",
       "      <td>15</td>\n",
       "      <td>42</td>\n",
       "      <td>2020-01-31</td>\n",
       "      <td>0.38</td>\n",
       "      <td>1</td>\n",
       "      <td>0</td>\n",
       "    </tr>\n",
       "    <tr>\n",
       "      <th>4</th>\n",
       "      <td>61792</td>\n",
       "      <td>Spacious Clean Quiet room (own bath) in la Con...</td>\n",
       "      <td>299558</td>\n",
       "      <td>Roberto</td>\n",
       "      <td>Cuauhtémoc</td>\n",
       "      <td>19.41259</td>\n",
       "      <td>-99.17959</td>\n",
       "      <td>Private room</td>\n",
       "      <td>1206</td>\n",
       "      <td>2</td>\n",
       "      <td>52</td>\n",
       "      <td>2019-11-03</td>\n",
       "      <td>1.36</td>\n",
       "      <td>2</td>\n",
       "      <td>0</td>\n",
       "    </tr>\n",
       "    <tr>\n",
       "      <th>5</th>\n",
       "      <td>67703</td>\n",
       "      <td>2 bedroom apt. deco bldg, Condesa</td>\n",
       "      <td>334451</td>\n",
       "      <td>Nicholas</td>\n",
       "      <td>Cuauhtémoc</td>\n",
       "      <td>19.41375</td>\n",
       "      <td>-99.17028</td>\n",
       "      <td>Entire home/apt</td>\n",
       "      <td>1909</td>\n",
       "      <td>4</td>\n",
       "      <td>39</td>\n",
       "      <td>2019-02-24</td>\n",
       "      <td>0.35</td>\n",
       "      <td>2</td>\n",
       "      <td>299</td>\n",
       "    </tr>\n",
       "  </tbody>\n",
       "</table>\n",
       "</div>"
      ],
      "text/plain": [
       "      id                                               name  host_id  \\\n",
       "1  44616                                  CONDESA HAUS  B&B   196253   \n",
       "2  56074               Great space in historical San Rafael   265650   \n",
       "3  58955                 Entire beautiful duplex in la Roma   282620   \n",
       "4  61792  Spacious Clean Quiet room (own bath) in la Con...   299558   \n",
       "5  67703                  2 bedroom apt. deco bldg, Condesa   334451   \n",
       "\n",
       "                            host_name neighbourhood  latitude  longitude  \\\n",
       "1  Condesa Haus Bed & Breakfast  CDMX    Cuauhtémoc  19.41006  -99.17645   \n",
       "2                               Maris    Cuauhtémoc  19.43778  -99.15549   \n",
       "3                               Laura    Cuauhtémoc  19.42292  -99.15775   \n",
       "4                             Roberto    Cuauhtémoc  19.41259  -99.17959   \n",
       "5                            Nicholas    Cuauhtémoc  19.41375  -99.17028   \n",
       "\n",
       "         room_type  price  minimum_nights  number_of_reviews last_review  \\\n",
       "1  Entire home/apt   8286               1                 49  2020-10-25   \n",
       "2  Entire home/apt    650               4                 60  2019-07-24   \n",
       "3  Entire home/apt   1447              15                 42  2020-01-31   \n",
       "4     Private room   1206               2                 52  2019-11-03   \n",
       "5  Entire home/apt   1909               4                 39  2019-02-24   \n",
       "\n",
       "   reviews_per_month  calculated_host_listings_count  availability_365  \n",
       "1               0.44                              10               364  \n",
       "2               1.59                               2                 0  \n",
       "3               0.38                               1                 0  \n",
       "4               1.36                               2                 0  \n",
       "5               0.35                               2               299  "
      ]
     },
     "execution_count": 38,
     "metadata": {},
     "output_type": "execute_result"
    }
   ],
   "source": [
    "dato.head()"
   ]
  },
  {
   "cell_type": "markdown",
   "metadata": {},
   "source": [
    "## 1. ¿Qué tipo de alojamiento es el que más hay (cuarto, dept.completo, etc)?"
   ]
  },
  {
   "cell_type": "code",
   "execution_count": 39,
   "metadata": {},
   "outputs": [],
   "source": [
    "tipal=dato.room_type.value_counts().head()"
   ]
  },
  {
   "cell_type": "code",
   "execution_count": 40,
   "metadata": {},
   "outputs": [
    {
     "data": {
      "text/plain": [
       "Entire home/apt    8464\n",
       "Private room       5787\n",
       "Shared room         192\n",
       "Hotel room          171\n",
       "Name: room_type, dtype: int64"
      ]
     },
     "execution_count": 40,
     "metadata": {},
     "output_type": "execute_result"
    }
   ],
   "source": [
    "tipal"
   ]
  },
  {
   "cell_type": "code",
   "execution_count": 47,
   "metadata": {},
   "outputs": [
    {
     "data": {
      "text/plain": [
       "<matplotlib.axes._subplots.AxesSubplot at 0x1f7c91a3970>"
      ]
     },
     "execution_count": 47,
     "metadata": {},
     "output_type": "execute_result"
    },
    {
     "data": {
      "image/png": "[encoded data removed]",
      "text/plain": [
       "<Figure size 432x288 with 1 Axes>"
      ]
     },
     "metadata": {},
     "output_type": "display_data"
    }
   ],
   "source": [
    "dato.room_type.value_counts(normalize=True).plot.pie() "
   ]
  },
  {
   "cell_type": "markdown",
   "metadata": {},
   "source": [
    "## 2. ¿Cuales son los neighbourhood con más alojamientos?"
   ]
  },
  {
   "cell_type": "code",
   "execution_count": 12,
   "metadata": {},
   "outputs": [],
   "source": [
    "masal=dato.neighbourhood.value_counts().head()"
   ]
  },
  {
   "cell_type": "code",
   "execution_count": 13,
   "metadata": {},
   "outputs": [
    {
     "data": {
      "text/plain": [
       "Cuauhtémoc        5883\n",
       "Miguel Hidalgo    2376\n",
       "Benito Juárez     2232\n",
       "Coyoacán          1215\n",
       "Álvaro Obregón     665\n",
       "Name: neighbourhood, dtype: int64"
      ]
     },
     "execution_count": 13,
     "metadata": {},
     "output_type": "execute_result"
    }
   ],
   "source": [
    "masal"
   ]
  },
  {
   "cell_type": "code",
   "execution_count": 48,
   "metadata": {},
   "outputs": [
    {
     "data": {
      "text/plain": [
       "<matplotlib.axes._subplots.AxesSubplot at 0x1f7c922d9d0>"
      ]
     },
     "execution_count": 48,
     "metadata": {},
     "output_type": "execute_result"
    },
    {
     "data": {
      "image/png": "[encoded data removed]",
      "text/plain": [
       "<Figure size 432x288 with 1 Axes>"
      ]
     },
     "metadata": {
      "needs_background": "light"
     },
     "output_type": "display_data"
    }
   ],
   "source": [
    "dato.neighbourhood.value_counts(normalize=True).plot.barh()"
   ]
  },
  {
   "cell_type": "code",
   "execution_count": null,
   "metadata": {},
   "outputs": [],
   "source": []
  },
  {
   "cell_type": "markdown",
   "metadata": {},
   "source": [
    "## 2. Mostrar los top 5 alojamientos más ocupados (tip la columna availability_365 muestra cuantos días esta disponible)"
   ]
  },
  {
   "cell_type": "code",
   "execution_count": 162,
   "metadata": {},
   "outputs": [
    {
     "data": {
      "text/plain": [
       "365    2334\n",
       "0       845\n",
       "364     808\n",
       "179     547\n",
       "89      390\n",
       "Name: availability_365, dtype: int64"
      ]
     },
     "execution_count": 162,
     "metadata": {},
     "output_type": "execute_result"
    }
   ],
   "source": [
    "dato.availability_365.value_counts().head()"
   ]
  },
  {
   "cell_type": "code",
   "execution_count": 172,
   "metadata": {},
   "outputs": [
    {
     "data": {
      "text/plain": [
       "557"
      ]
     },
     "execution_count": 172,
     "metadata": {},
     "output_type": "execute_result"
    }
   ],
   "source": [
    "dato.number_of_reviews.max()"
   ]
  },
  {
   "cell_type": "code",
   "execution_count": 175,
   "metadata": {},
   "outputs": [
    {
     "data": {
      "text/plain": [
       "0"
      ]
     },
     "execution_count": 175,
     "metadata": {},
     "output_type": "execute_result"
    }
   ],
   "source": [
    "dato.availability_365.min()"
   ]
  },
  {
   "cell_type": "code",
   "execution_count": null,
   "metadata": {},
   "outputs": [],
   "source": []
  },
  {
   "cell_type": "code",
   "execution_count": null,
   "metadata": {},
   "outputs": [],
   "source": []
  }
 ],
 "metadata": {
  "kernelspec": {
   "display_name": "Python 3",
   "language": "python",
   "name": "python3"
  },
  "language_info": {
   "codemirror_mode": {
    "name": "ipython",
    "version": 3
   },
   "file_extension": ".py",
   "mimetype": "text/x-python",
   "name": "python",
   "nbconvert_exporter": "python",
   "pygments_lexer": "ipython3",
   "version": "3.8.3"
  }
 },
 "nbformat": 4,
 "nbformat_minor": 4
}
